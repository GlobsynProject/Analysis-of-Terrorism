{
 "cells": [
  {
   "cell_type": "markdown",
   "metadata": {
    "_uuid": "0e56bf27c3c71ffdebd53547f6422191463335bd"
   },
   "source": [
    "# Global Terrorism\n",
    "<br>\n",
    "![Global Terrorism](https://www.start.umd.edu/gtd/images/START_GlobalTerrorismDatabase_TerroristAttacksConcentrationIntensityMap_45Years.png)\n",
    "<br>\n",
    "Hi,\n",
    "I'm going to analyse the given dataset on terrorism, I'll try not to reduce the database size as more data we have better insights we can get. This is going to be a very long kernel.\n",
    "If you find this notebook helpful or you just like it , some upvotes would be very much appreciated.\n",
    "That will keep me motivated :)\n",
    "So let's start."
   ]
  },
  {
   "cell_type": "markdown",
   "metadata": {
    "_uuid": "433650b338340b83961c24f387097a420898518a"
   },
   "source": [
    "### Importing libraries"
   ]
  },
  {
   "cell_type": "code",
   "execution_count": 4,
   "metadata": {
    "_uuid": "5546dbf1921fbcc3950f98958d2c4b79b63ab543"
   },
   "outputs": [],
   "source": [
    "import numpy as np\n",
    "import pandas as pd\n",
    "import matplotlib.pyplot as plt\n",
    "plt.style.use('seaborn-whitegrid')\n",
    "%matplotlib inline\n",
    "import seaborn as sns\n",
    "#Plotly\n",
    "#import plotly\n",
    "#import plotly.plotly as py\n",
    "#import plotly.offline as offline\n",
    "#import plotly.graph_objs as go\n",
    "#from plotly.offline import download_plotlyjs, init_notebook_mode, plot, iplot\n",
    "#init_notebook_mode(connected=True)\n",
    "#import cufflinks as cf\n",
    "#cf.set_config_file(offline=True)"
   ]
  },
  {
   "cell_type": "markdown",
   "metadata": {
    "_uuid": "a019aa8e9cf74c343cbc149b93f5cbc2c94c8c44"
   },
   "source": [
    "### Importing the Dataset"
   ]
  },
  {
   "cell_type": "code",
   "execution_count": 5,
   "metadata": {
    "_uuid": "e992e0e9d7deb4b4ba68bd7c00985cf1a1654d4d"
   },
   "outputs": [],
   "source": [
    "dataset=pd.read_csv('D:/Dataset.csv',engine='python')"
   ]
  },
  {
   "cell_type": "code",
   "execution_count": 6,
   "metadata": {
    "_uuid": "6117c044aebd2c920ac33c21da2f92c073ae339b"
   },
   "outputs": [
    {
     "data": {
      "text/html": [
       "<div>\n",
       "<style scoped>\n",
       "    .dataframe tbody tr th:only-of-type {\n",
       "        vertical-align: middle;\n",
       "    }\n",
       "\n",
       "    .dataframe tbody tr th {\n",
       "        vertical-align: top;\n",
       "    }\n",
       "\n",
       "    .dataframe thead th {\n",
       "        text-align: right;\n",
       "    }\n",
       "</style>\n",
       "<table border=\"1\" class=\"dataframe\">\n",
       "  <thead>\n",
       "    <tr style=\"text-align: right;\">\n",
       "      <th></th>\n",
       "      <th>ï»¿iyear</th>\n",
       "      <th>imonth</th>\n",
       "      <th>iday</th>\n",
       "      <th>country_txt</th>\n",
       "      <th>city</th>\n",
       "      <th>attacktype1_txt</th>\n",
       "      <th>targtype1_txt</th>\n",
       "      <th>corp1</th>\n",
       "      <th>target1</th>\n",
       "      <th>natlty1_txt</th>\n",
       "      <th>gname</th>\n",
       "      <th>weaptype1_txt</th>\n",
       "      <th>weapsubtype1_txt</th>\n",
       "      <th>weapdetail</th>\n",
       "      <th>nkill</th>\n",
       "      <th>nwound</th>\n",
       "      <th>propextent_txt</th>\n",
       "      <th>ransomamt</th>\n",
       "    </tr>\n",
       "  </thead>\n",
       "  <tbody>\n",
       "    <tr>\n",
       "      <th>0</th>\n",
       "      <td>2012</td>\n",
       "      <td>1</td>\n",
       "      <td>1</td>\n",
       "      <td>Kenya</td>\n",
       "      <td>Garissa</td>\n",
       "      <td>Armed Assault</td>\n",
       "      <td>Business</td>\n",
       "      <td>Locus Pub</td>\n",
       "      <td>Bar</td>\n",
       "      <td>Kenya</td>\n",
       "      <td>Al-Shabaab</td>\n",
       "      <td>Explosives/Bombs/Dynamite</td>\n",
       "      <td>Grenade</td>\n",
       "      <td>Two grenades and AK-47 assault rifles were use...</td>\n",
       "      <td>3.0</td>\n",
       "      <td>14.0</td>\n",
       "      <td>Minor (likely &lt; $1 million)</td>\n",
       "      <td>NaN</td>\n",
       "    </tr>\n",
       "    <tr>\n",
       "      <th>1</th>\n",
       "      <td>2012</td>\n",
       "      <td>1</td>\n",
       "      <td>1</td>\n",
       "      <td>Pakistan</td>\n",
       "      <td>Sui</td>\n",
       "      <td>Bombing/Explosion</td>\n",
       "      <td>Military</td>\n",
       "      <td>Frontier Corps (FC)</td>\n",
       "      <td>Soldiers</td>\n",
       "      <td>Pakistan</td>\n",
       "      <td>Baloch Republican Army (BRA)</td>\n",
       "      <td>Explosives/Bombs/Dynamite</td>\n",
       "      <td>Land Mine</td>\n",
       "      <td>NaN</td>\n",
       "      <td>4.0</td>\n",
       "      <td>3.0</td>\n",
       "      <td>Minor (likely &lt; $1 million)</td>\n",
       "      <td>NaN</td>\n",
       "    </tr>\n",
       "    <tr>\n",
       "      <th>2</th>\n",
       "      <td>2012</td>\n",
       "      <td>1</td>\n",
       "      <td>1</td>\n",
       "      <td>Kenya</td>\n",
       "      <td>Garissa</td>\n",
       "      <td>Armed Assault</td>\n",
       "      <td>Business</td>\n",
       "      <td>Unknown</td>\n",
       "      <td>Bar</td>\n",
       "      <td>Kenya</td>\n",
       "      <td>Al-Shabaab</td>\n",
       "      <td>Explosives/Bombs/Dynamite</td>\n",
       "      <td>Grenade</td>\n",
       "      <td>NaN</td>\n",
       "      <td>2.0</td>\n",
       "      <td>14.0</td>\n",
       "      <td>Minor (likely &lt; $1 million)</td>\n",
       "      <td>NaN</td>\n",
       "    </tr>\n",
       "    <tr>\n",
       "      <th>3</th>\n",
       "      <td>2012</td>\n",
       "      <td>1</td>\n",
       "      <td>1</td>\n",
       "      <td>Afghanistan</td>\n",
       "      <td>Karez</td>\n",
       "      <td>Bombing/Explosion</td>\n",
       "      <td>Military</td>\n",
       "      <td>North Atlantic Treaty Organization (NATO): Int...</td>\n",
       "      <td>Vehicle</td>\n",
       "      <td>International</td>\n",
       "      <td>Taliban</td>\n",
       "      <td>Explosives/Bombs/Dynamite</td>\n",
       "      <td>Unknown Explosive Type</td>\n",
       "      <td>NaN</td>\n",
       "      <td>0.0</td>\n",
       "      <td>0.0</td>\n",
       "      <td>Unknown</td>\n",
       "      <td>NaN</td>\n",
       "    </tr>\n",
       "    <tr>\n",
       "      <th>4</th>\n",
       "      <td>2012</td>\n",
       "      <td>1</td>\n",
       "      <td>1</td>\n",
       "      <td>Democratic Republic of the Congo</td>\n",
       "      <td>Shabunda</td>\n",
       "      <td>Facility/Infrastructure Attack</td>\n",
       "      <td>Private Citizens &amp; Property</td>\n",
       "      <td>Not Applicable</td>\n",
       "      <td>Civilians</td>\n",
       "      <td>Democratic Republic of the Congo</td>\n",
       "      <td>Democratic Front for the Liberation of Rwanda ...</td>\n",
       "      <td>Incendiary</td>\n",
       "      <td>Arson/Fire</td>\n",
       "      <td>NaN</td>\n",
       "      <td>18.0</td>\n",
       "      <td>5.0</td>\n",
       "      <td>Minor (likely &lt; $1 million)</td>\n",
       "      <td>NaN</td>\n",
       "    </tr>\n",
       "  </tbody>\n",
       "</table>\n",
       "</div>"
      ],
      "text/plain": [
       "   ï»¿iyear  imonth  iday                       country_txt      city  \\\n",
       "0      2012       1     1                             Kenya   Garissa   \n",
       "1      2012       1     1                          Pakistan       Sui   \n",
       "2      2012       1     1                             Kenya   Garissa   \n",
       "3      2012       1     1                       Afghanistan     Karez   \n",
       "4      2012       1     1  Democratic Republic of the Congo  Shabunda   \n",
       "\n",
       "                  attacktype1_txt                targtype1_txt  \\\n",
       "0                   Armed Assault                     Business   \n",
       "1               Bombing/Explosion                     Military   \n",
       "2                   Armed Assault                     Business   \n",
       "3               Bombing/Explosion                     Military   \n",
       "4  Facility/Infrastructure Attack  Private Citizens & Property   \n",
       "\n",
       "                                               corp1    target1  \\\n",
       "0                                          Locus Pub        Bar   \n",
       "1                                Frontier Corps (FC)   Soldiers   \n",
       "2                                            Unknown        Bar   \n",
       "3  North Atlantic Treaty Organization (NATO): Int...    Vehicle   \n",
       "4                                     Not Applicable  Civilians   \n",
       "\n",
       "                        natlty1_txt  \\\n",
       "0                             Kenya   \n",
       "1                          Pakistan   \n",
       "2                             Kenya   \n",
       "3                     International   \n",
       "4  Democratic Republic of the Congo   \n",
       "\n",
       "                                               gname  \\\n",
       "0                                         Al-Shabaab   \n",
       "1                       Baloch Republican Army (BRA)   \n",
       "2                                         Al-Shabaab   \n",
       "3                                            Taliban   \n",
       "4  Democratic Front for the Liberation of Rwanda ...   \n",
       "\n",
       "               weaptype1_txt        weapsubtype1_txt  \\\n",
       "0  Explosives/Bombs/Dynamite                 Grenade   \n",
       "1  Explosives/Bombs/Dynamite               Land Mine   \n",
       "2  Explosives/Bombs/Dynamite                 Grenade   \n",
       "3  Explosives/Bombs/Dynamite  Unknown Explosive Type   \n",
       "4                 Incendiary              Arson/Fire   \n",
       "\n",
       "                                          weapdetail  nkill  nwound  \\\n",
       "0  Two grenades and AK-47 assault rifles were use...    3.0    14.0   \n",
       "1                                                NaN    4.0     3.0   \n",
       "2                                                NaN    2.0    14.0   \n",
       "3                                                NaN    0.0     0.0   \n",
       "4                                                NaN   18.0     5.0   \n",
       "\n",
       "                propextent_txt  ransomamt  \n",
       "0  Minor (likely < $1 million)        NaN  \n",
       "1  Minor (likely < $1 million)        NaN  \n",
       "2  Minor (likely < $1 million)        NaN  \n",
       "3                      Unknown        NaN  \n",
       "4  Minor (likely < $1 million)        NaN  "
      ]
     },
     "execution_count": 6,
     "metadata": {},
     "output_type": "execute_result"
    }
   ],
   "source": [
    "dataset.head()"
   ]
  },
  {
   "cell_type": "markdown",
   "metadata": {
    "_uuid": "637e79899035221170de2a07e5d81180538ed2a8"
   },
   "source": [
    "### Visualizing the nulls. (Each YELLOW cell represents a null)"
   ]
  },
  {
   "cell_type": "code",
   "execution_count": 8,
   "metadata": {
    "_uuid": "94730f91611e545bfdb99039f164ad863afacf37",
    "scrolled": false
   },
   "outputs": [
    {
     "data": {
      "text/plain": [
       "<matplotlib.axes._subplots.AxesSubplot at 0x3904212b00>"
      ]
     },
     "execution_count": 8,
     "metadata": {},
     "output_type": "execute_result"
    },
    {
     "data": {
      "image/png": "[encoded data removed]",
      "text/plain": [
       "<Figure size 1152x432 with 1 Axes>"
      ]
     },
     "metadata": {
      "needs_background": "light"
     },
     "output_type": "display_data"
    }
   ],
   "source": [
    "plt.figure(figsize=(16,6))\n",
    "sns.heatmap(dataset.isnull(),cmap='viridis',cbar=False)"
   ]
  },
  {
   "cell_type": "markdown",
   "metadata": {
    "_uuid": "66e87be417d1d1b27fdce70b29fc39cf598257e2"
   },
   "source": [
    "we have got a large heap nulls."
   ]
  },
  {
   "cell_type": "markdown",
   "metadata": {
    "_uuid": "3ff482b203911dd688005fb9b9859dbe9c8c0495"
   },
   "source": [
    "### Columns"
   ]
  },
  {
   "cell_type": "code",
   "execution_count": 9,
   "metadata": {
    "_uuid": "d31dad480fb5b87fe1a6554277a1629199bcec23"
   },
   "outputs": [
    {
     "data": {
      "text/plain": [
       "array(['ï»¿iyear', 'imonth', 'iday', 'country_txt', 'city',\n",
       "       'attacktype1_txt', 'targtype1_txt', 'corp1', 'target1',\n",
       "       'natlty1_txt', 'gname', 'weaptype1_txt', 'weapsubtype1_txt',\n",
       "       'weapdetail', 'nkill', 'nwound', 'propextent_txt', 'ransomamt'],\n",
       "      dtype=object)"
      ]
     },
     "execution_count": 9,
     "metadata": {},
     "output_type": "execute_result"
    }
   ],
   "source": [
    "dataset.columns.values"
   ]
  },
  {
   "cell_type": "markdown",
   "metadata": {
    "_uuid": "14139e74d4e7e177458fca96f9f6dad769e61c9b"
   },
   "source": [
    "### Selecting the coloumns we need."
   ]
  },
  {
   "cell_type": "code",
   "execution_count": 11,
   "metadata": {
    "_uuid": "9a5b9b9ca387f40167a6fed1de17c578df9468d5"
   },
   "outputs": [],
   "source": [
    "#motive=dataset['motive'] #This will be used in the end."
   ]
  },
  {
   "cell_type": "code",
   "execution_count": null,
   "metadata": {
    "_uuid": "18ba0ee9eae116b8b9f9bed1b992822b7ac15161"
   },
   "outputs": [],
   "source": [
    "#dataset=dataset[['eventid','iyear', 'imonth', 'country_txt', 'region_txt', 'provstate', 'city', 'latitude', 'longitude', 'success', 'attacktype1_txt', 'targtype1_txt', 'natlty1_txt', 'gname', 'weaptype1_txt', 'weapsubtype1_txt', 'nkill', 'nwound']]"
   ]
  },
  {
   "cell_type": "code",
   "execution_count": null,
   "metadata": {
    "_uuid": "165781bd06352c13175809e2ee1db71e8b26fec2"
   },
   "outputs": [],
   "source": [
    "#dataset.rename(columns={'imonth': 'Month',\n",
    " #'iyear': 'Year',\n",
    " #'eventid': 'Event ID',\n",
    " #'country_txt': 'Country',\n",
    " #'region_txt': 'Region',\n",
    " #'provstate': 'State',\n",
    " #'city': 'City',\n",
    " #'attacktype1_txt': 'Attack type',\n",
    " #'targtype1_txt': 'Target',\n",
    " #'natlty1_txt': 'Nationality',\n",
    " #'gname': 'Terrorist Group',\n",
    " #'weaptype1_txt': 'Weapon type',\n",
    " ##'nkill': 'Killed',\n",
    " #'nwound': 'Wounded'},inplace=True)"
   ]
  },
  {
   "cell_type": "code",
   "execution_count": null,
   "metadata": {
    "_uuid": "0317392c651360be3041a21ef8642bafade96c4b"
   },
   "outputs": [],
   "source": [
    "#dataset.head()"
   ]
  },
  {
   "cell_type": "markdown",
   "metadata": {
    "_uuid": "b3caed18678b89eacfa9ee16e4c98807d2fe2ece"
   },
   "source": [
    "### Again checking the nulls "
   ]
  },
  {
   "cell_type": "code",
   "execution_count": 12,
   "metadata": {
    "_uuid": "62e84ea431753e1a939f6bce2c31ade4a7b4520d"
   },
   "outputs": [
    {
     "data": {
      "text/plain": [
       "<matplotlib.axes._subplots.AxesSubplot at 0x3905f11630>"
      ]
     },
     "execution_count": 12,
     "metadata": {},
     "output_type": "execute_result"
    },
    {
     "data": {
      "image/png": "[encoded data removed]",
      "text/plain": [
       "<Figure size 1152x432 with 1 Axes>"
      ]
     },
     "metadata": {
      "needs_background": "light"
     },
     "output_type": "display_data"
    }
   ],
   "source": [
    "plt.figure(figsize=(16,6))\n",
    "sns.heatmap(dataset.isnull(),cmap='viridis',cbar=False)"
   ]
  },
  {
   "cell_type": "markdown",
   "metadata": {
    "_uuid": "8ecf6fc7996615eef9d7b36cd0ac7cb184db61a9"
   },
   "source": [
    "### Filling the nulls to save the data"
   ]
  },
  {
   "cell_type": "code",
   "execution_count": null,
   "metadata": {
    "_uuid": "42d2985687db785c10829f5e23995445845ec3da"
   },
   "outputs": [],
   "source": [
    "dataset['Weapon subtype'].fillna('No Record', inplace=True)\n",
    "dataset['Nationality'].fillna('Unknown', inplace=True)"
   ]
  },
  {
   "cell_type": "markdown",
   "metadata": {
    "_uuid": "b6934b9df256a47b5cdfee669a2f2426d906ac64"
   },
   "source": [
    "### Dropping the nulls"
   ]
  },
  {
   "cell_type": "code",
   "execution_count": null,
   "metadata": {
    "_uuid": "da9e755f54461861507bf5221e9e5c8bfb09c069"
   },
   "outputs": [],
   "source": [
    "motive.dropna(inplace=True)"
   ]
  },
  {
   "cell_type": "code",
   "execution_count": null,
   "metadata": {
    "_uuid": "8b43adef1e561a4302c8b54f647ed29ac811dc60",
    "scrolled": true
   },
   "outputs": [],
   "source": [
    "print('No. of rows before dropping nulls: {}'.format(dataset['Event ID'].count()))\n",
    "dataset.dropna(inplace=True)\n",
    "print('No. of rows after dropping nulls: {}'.format(dataset['Event ID'].count()))"
   ]
  },
  {
   "cell_type": "code",
   "execution_count": null,
   "metadata": {
    "_uuid": "8114c20f67e6385e17aa6f73da912be9bda8ce8e"
   },
   "outputs": [],
   "source": [
    "dataset['Casualties']=dataset['Killed']+dataset['Wounded']"
   ]
  },
  {
   "cell_type": "markdown",
   "metadata": {
    "_uuid": "6893436eac7a850a1d8d94e9e767a417f5cf075a"
   },
   "source": [
    "### Now we have neat and clean data, and successfully saved over 1,60,000 rows."
   ]
  },
  {
   "cell_type": "code",
   "execution_count": null,
   "metadata": {
    "_uuid": "ba092a400f7cf59a7144f262479847d39f22e74c"
   },
   "outputs": [],
   "source": [
    "plt.figure(figsize=(16,6))\n",
    "sns.heatmap(dataset.isnull(),cmap='viridis',cbar=False)"
   ]
  },
  {
   "cell_type": "markdown",
   "metadata": {
    "_uuid": "b33195861162c8f50edd8dae9584b662a1e03612"
   },
   "source": [
    "***"
   ]
  },
  {
   "cell_type": "markdown",
   "metadata": {
    "_uuid": "48c9f2758d1032a4b779c68eed5abc981cce8142"
   },
   "source": [
    "# Global\n",
    "![](https://www.logosol.com/global/images/bg_global_map.png)"
   ]
  },
  {
   "cell_type": "markdown",
   "metadata": {
    "_uuid": "57543c40815ac3aeaa3974ab58f064acf4d142fd"
   },
   "source": [
    "## No. of attacks worldwide (1970 - 2017)"
   ]
  },
  {
   "cell_type": "code",
   "execution_count": null,
   "metadata": {
    "_uuid": "f377306d68cf885e866c3137bd90557833d71567"
   },
   "outputs": [],
   "source": [
    "sns.set_context(context='notebook',font_scale=1.5)\n",
    "plt.figure(figsize=(16,9))\n",
    "v1=dataset['Year'].value_counts().to_frame().reset_index().rename(columns={'index':'Year','Year':'Attacks'}).sort_values(by='Year')\n",
    "sns.barplot(data=v1,x='Year',y='Attacks',ci=None)\n",
    "plt.xticks(rotation=90)"
   ]
  },
  {
   "cell_type": "markdown",
   "metadata": {
    "_uuid": "1a16821e446b8cc11bd2faee57ef61678d0463cb"
   },
   "source": [
    " - __we can see a peak in terrorist activities in 1992, then a fall.__\n",
    " - __A sharp increase can be seen after 2011 and in 2014 terrorist activities were on peak.__"
   ]
  },
  {
   "cell_type": "markdown",
   "metadata": {
    "_uuid": "fc1f197b14ef24aa12013ad506747b413598d9f6"
   },
   "source": [
    "## Most affected Regions"
   ]
  },
  {
   "cell_type": "code",
   "execution_count": null,
   "metadata": {
    "_uuid": "2128a3e864f81b7eb78ab8978ff1c60960144231"
   },
   "outputs": [],
   "source": [
    "dataset['Region'].value_counts(ascending=True).to_frame().reset_index().rename(columns={'index':'Region','Region':'Attacks'}).merge(dataset[['Casualties','Region']].groupby('Region').sum().reset_index(),on='Region').plot.barh(x='Region',y=['Attacks','Casualties'],figsize=(16,8),stacked=True)\n",
    "plt.legend(loc=5)"
   ]
  },
  {
   "cell_type": "markdown",
   "metadata": {
    "_uuid": "16de718b5e4a1ddd1cf05270427518c2a348c03e"
   },
   "source": [
    "## Most affected countries "
   ]
  },
  {
   "cell_type": "code",
   "execution_count": null,
   "metadata": {
    "_uuid": "d6bae753d867b8ad78baf209ad4a8e8ee802f805",
    "scrolled": false
   },
   "outputs": [],
   "source": [
    "dataset[dataset['Country'].isin(dataset['Country'].value_counts()[0:20].index)][['Casualties','Country']].groupby('Country').sum().reset_index().sort_values(by='Casualties',ascending=False).merge(dataset[dataset['Country'].isin(dataset['Country'].value_counts()[0:20].index)]['Country'].value_counts().to_frame().reset_index().rename(columns={'index':'Country','Country':'Attacks'}), on='Country').plot.bar(x='Country',y=['Attacks','Casualties'],figsize=(16,6),stacked=True)"
   ]
  },
  {
   "cell_type": "markdown",
   "metadata": {
    "_uuid": "ad68d3cfa48d354be015238683c6b35e01f5d076"
   },
   "source": [
    "- __Iraq, Afghantistan, Pakistan, India, Sri Lanka and United States are most affected.__\n",
    "- __In case of Iraq casualties are far more than the other countries.__"
   ]
  },
  {
   "cell_type": "markdown",
   "metadata": {
    "_uuid": "c4ae381ab61350c17c78b2eee92477dac4bf2f2c"
   },
   "source": [
    "## Terrorist Attack locations"
   ]
  },
  {
   "cell_type": "code",
   "execution_count": null,
   "metadata": {
    "_uuid": "edd28e30c4bacfff3fe1bc9975e8fd74a4a8fdd4"
   },
   "outputs": [],
   "source": [
    "data = [go.Scattermapbox(\n",
    "            lat= dataset['latitude'] ,\n",
    "            lon= dataset['longitude'],\n",
    "            customdata = dataset['Event ID'],\n",
    "            mode='markers',\n",
    "            marker=dict(\n",
    "                size= 3.5,\n",
    "                color = 'red',\n",
    "                opacity = .7,\n",
    "            ),\n",
    "          )]\n",
    "layout = go.Layout(autosize=False,\n",
    "                   mapbox= dict(accesstoken=\"pk.eyJ1Ijoic2hhejEzIiwiYSI6ImNqYXA3NjhmeDR4d3Iyd2w5M2phM3E2djQifQ.yyxsAzT94VGYYEEOhxy87w\",\n",
    "                                bearing=0,\n",
    "                                pitch=50,\n",
    "                                zoom=2,\n",
    "                                center= dict(\n",
    "                                         lat=12,\n",
    "                                         lon=39),\n",
    "                                style= \"mapbox://styles/shaz13/cjk4wlc1s02bm2smsqd7qtjhs\"),\n",
    "                    width=900,\n",
    "                    height=600, title = \"Terrorist attack locations\")"
   ]
  },
  {
   "cell_type": "code",
   "execution_count": null,
   "metadata": {
    "_uuid": "d46f51eb4a8999b0ab3a8182423b894772ed4c33"
   },
   "outputs": [],
   "source": [
    "fig = dict(data=data, layout=layout)\n",
    "iplot(fig)"
   ]
  },
  {
   "cell_type": "markdown",
   "metadata": {
    "_uuid": "1a44764b9fdd6b1a284cb2b260315182c479dd37"
   },
   "source": [
    "## Most active terrorist groups."
   ]
  },
  {
   "cell_type": "code",
   "execution_count": null,
   "metadata": {
    "_uuid": "7a1f5731f93dd5ed37bb04fe48e920b681fd7b84"
   },
   "outputs": [],
   "source": [
    "dataset[dataset['Terrorist Group'].isin(dataset['Terrorist Group'].value_counts()[1:26].index)][['Casualties','Terrorist Group']].groupby('Terrorist Group').sum().reset_index().merge(dataset[dataset['Terrorist Group'].isin(dataset['Terrorist Group'].value_counts()[1:26].index)]['Terrorist Group'].value_counts().to_frame().reset_index().rename(columns={'index':'Terrorist Group','Terrorist Group':'Attacks'}), on='Terrorist Group').sort_values(by='Attacks',ascending=False).plot.barh(x='Terrorist Group',y=['Attacks','Casualties'],figsize=(12,10),stacked=True)"
   ]
  },
  {
   "cell_type": "markdown",
   "metadata": {
    "_uuid": "ad04d2602a09bec1e381f4f06b96ea44ea3d62db"
   },
   "source": [
    " - __ ISIL, Taliban can be seen as most active groups.__\n",
    " - __ Al-Quida in Iraq, TTP, LTTE, Boko Haram have caused greater casulaties in less no. of attacks.__"
   ]
  },
  {
   "cell_type": "markdown",
   "metadata": {
    "_uuid": "bb5a32e27c37dcb2f7c52a6a3d3330e0de69ca4d"
   },
   "source": [
    "## Activities of top 10 terrorist groups in past years."
   ]
  },
  {
   "cell_type": "code",
   "execution_count": null,
   "metadata": {
    "_uuid": "baaf733a4962a3c1ff4d5d2924619eb75032ac26",
    "scrolled": false
   },
   "outputs": [],
   "source": [
    "pd.crosstab(dataset[dataset['Terrorist Group'].isin(dataset['Terrorist Group'].value_counts()[1:11].index)]['Year'],dataset[dataset['Terrorist Group'].isin(dataset['Terrorist Group'].value_counts()[1:11].index)]['Terrorist Group']).plot(color=sns.color_palette('Paired',10),figsize=(18,6))"
   ]
  },
  {
   "cell_type": "markdown",
   "metadata": {
    "_uuid": "d4fa57d6815a7b80c083213910b3148a79de0baa"
   },
   "source": [
    " - __Every terrorist group had its time peroid of activities and existance.__\n",
    " - __In 80's and starting of 90's Shining Path and FMLN were the most active terrorist groups.__\n",
    " - __Tabliban and ISIL came into existance after 2000 and 2012 resp.__\n",
    " - __ISIL grew strong in very short period of time. __"
   ]
  },
  {
   "cell_type": "markdown",
   "metadata": {
    "_uuid": "94044b32a11a3708f7738f8053296f18560334b8"
   },
   "source": [
    "# Targets"
   ]
  },
  {
   "cell_type": "code",
   "execution_count": null,
   "metadata": {
    "_uuid": "a7bd83b6417e216e6cf3cb69e282092ddce85c98"
   },
   "outputs": [],
   "source": [
    "dataset[dataset['Target'].isin(dataset['Target'].value_counts()[0:20].index)][['Casualties','Target']].groupby('Target').sum().reset_index().merge(dataset[dataset['Target'].isin(dataset['Target'].value_counts()[0:20].index)]['Target'].value_counts().to_frame().reset_index().rename(columns={'index':'Target','Target':'Attacks'}), on='Target').sort_values(by='Casualties',ascending=False).plot.bar(x='Target',y=['Attacks','Casualties'],figsize=(16,6),stacked=True)"
   ]
  },
  {
   "cell_type": "markdown",
   "metadata": {
    "_uuid": "0cc50d48cf937499e797c406786a9526ad21bb83"
   },
   "source": [
    " - __Citizens & Private Property, Military, Police and Business are mostly targeted, but mainly citizens.__"
   ]
  },
  {
   "cell_type": "markdown",
   "metadata": {
    "_uuid": "2f767974dd11241341d9ea2b0452a33375ee6d44"
   },
   "source": [
    "## Favorite targets of top 25 most active terrorist groups."
   ]
  },
  {
   "cell_type": "code",
   "execution_count": null,
   "metadata": {
    "_uuid": "453df02d40e5eaef4a7aa286115b9a198b0a642e"
   },
   "outputs": [],
   "source": [
    "v1=dataset[dataset['Terrorist Group'].isin(dataset['Terrorist Group'].value_counts()[1:26].index)]\n",
    "v2=v1[v1['Target'].isin(v1['Target'].value_counts()[0:10].index)]\n",
    "pd.crosstab(v2['Terrorist Group'],v2['Target']).plot.barh(stacked=True,figsize=(9,8.5),width=0.7)\n",
    "plt.legend(loc=9,bbox_to_anchor=(1.25,1))"
   ]
  },
  {
   "cell_type": "markdown",
   "metadata": {
    "_uuid": "5e7000d2c7bd813f6d9398011c50297049760cda"
   },
   "source": [
    " - __Taliban mostly targetted Police, Millitary and Govt. while Citizens and Military were the major targets of ISIL.__"
   ]
  },
  {
   "cell_type": "markdown",
   "metadata": {
    "_uuid": "d123e402fc8bb8afdea3266a542e0577ad3b8a91"
   },
   "source": [
    "## Attack types."
   ]
  },
  {
   "cell_type": "code",
   "execution_count": null,
   "metadata": {
    "_uuid": "f6d176b5a0ef24aa42151ba489669a6d0b1d964f"
   },
   "outputs": [],
   "source": [
    "pd.crosstab(v1['Terrorist Group'],v1['Attack type']).plot.barh(stacked=True,figsize=(9,8.5),width=0.7)\n",
    "plt.legend(loc=9,bbox_to_anchor=(1.1,0.8))"
   ]
  },
  {
   "cell_type": "markdown",
   "metadata": {
    "_uuid": "d37376adb1eb4bc980f385ea7d7aee6de5f01a06"
   },
   "source": [
    " - __ISIL was mainly involved in Bombing/Explosions while Taliban used Armed Assaults and Explosions both to spread its terror. __\n",
    " - __Shining Path did greater no. of Assassinations as compared to taliban and ISIL.__ "
   ]
  },
  {
   "cell_type": "markdown",
   "metadata": {
    "_uuid": "1f7e8b62bd1a04b8b72cdb17663c98250e515005"
   },
   "source": [
    "## Weapon types."
   ]
  },
  {
   "cell_type": "code",
   "execution_count": null,
   "metadata": {
    "_uuid": "0ee7a6ef1b37f31cc435136d19828c6bcc7185c0",
    "scrolled": false
   },
   "outputs": [],
   "source": [
    "pd.crosstab(v1['Terrorist Group'],v1['Weapon type']).plot.barh(stacked=True,figsize=(9,8.5),width=0.7)\n",
    "plt.legend(loc=9,bbox_to_anchor=(1,0.47))"
   ]
  },
  {
   "cell_type": "markdown",
   "metadata": {
    "_uuid": "ac4e00e41468b46ec5994498c78e94abef9aa974"
   },
   "source": [
    " - __Again we can see the love of ISIL for explosions__\n",
    " - __One more thing we can see here that only ISIL used Chemical weapons__"
   ]
  },
  {
   "cell_type": "markdown",
   "metadata": {
    "_uuid": "94bbf443130dcbaa804d402174a69e905549e4d2"
   },
   "source": [
    "***"
   ]
  },
  {
   "cell_type": "markdown",
   "metadata": {
    "_uuid": "b9c39e2efa860fcf18743d62c41f13fc81db7b3b"
   },
   "source": [
    "# __Lets have a look at terrorism in most affected countries.__\n",
    "__Every country has its own story__"
   ]
  },
  {
   "cell_type": "markdown",
   "metadata": {
    "_uuid": "98ff47832b8e37cc54032aa806c160ebd3baa353"
   },
   "source": [
    "# India\n",
    "![](https://upload.wikimedia.org/wikipedia/en/thumb/4/41/Flag_of_India.svg/320px-Flag_of_India.svg.png)"
   ]
  },
  {
   "cell_type": "code",
   "execution_count": null,
   "metadata": {
    "_uuid": "d0a734d7d83e5aebc5d730f0a1cb1b3178e981e9"
   },
   "outputs": [],
   "source": [
    "India=dataset[dataset['Country']=='India']"
   ]
  },
  {
   "cell_type": "markdown",
   "metadata": {
    "_uuid": "41bd5daa3d1e5450b95fa8b56990f2e493a571fe"
   },
   "source": [
    "## History of terrorist attacks in India"
   ]
  },
  {
   "cell_type": "code",
   "execution_count": null,
   "metadata": {
    "_uuid": "d99620c858f249cde70d279291f6a30b088ffd52"
   },
   "outputs": [],
   "source": [
    "sns.set_context(context='notebook',font_scale=1.5)\n",
    "plt.figure(figsize=(16,9))\n",
    "v1=India['Year'].value_counts().to_frame().reset_index().rename(columns={'index':'Year','Year':'Attacks'}).sort_values(by='Year')\n",
    "sns.barplot(data=v1,x='Year',y='Attacks',ci=None)\n",
    "plt.xticks(rotation=90)"
   ]
  },
  {
   "cell_type": "markdown",
   "metadata": {
    "_uuid": "2dd3073f077fea86ab87d0bf8970623e0ba48ea6"
   },
   "source": [
    " - __Terrorism in India follows somewhat same trend as we saw globally.__"
   ]
  },
  {
   "cell_type": "markdown",
   "metadata": {
    "_uuid": "177043290af26d7946e0bfcd8ffe11757197fe0c"
   },
   "source": [
    "## Most active terrorist groups in India"
   ]
  },
  {
   "cell_type": "code",
   "execution_count": null,
   "metadata": {
    "_uuid": "129447912af529003a656018222e2b55c188aa69"
   },
   "outputs": [],
   "source": [
    "India[India['Terrorist Group'].isin(India['Terrorist Group'].value_counts()[0:15].index)][['Casualties','Terrorist Group']].groupby('Terrorist Group').sum().reset_index().merge(India[India['Terrorist Group'].isin(India['Terrorist Group'].value_counts()[0:15].index)]['Terrorist Group'].value_counts().to_frame().reset_index().rename(columns={'index':'Terrorist Group','Terrorist Group':'Attacks'}), on='Terrorist Group').sort_values(by='Attacks',ascending=False).plot.barh(x='Terrorist Group',y=['Attacks','Casualties'],figsize=(12,10),stacked=True)"
   ]
  },
  {
   "cell_type": "markdown",
   "metadata": {
    "_uuid": "a3ae6c36eea595ce8faa63a60bba55e231571440"
   },
   "source": [
    "- __CPI Maoist was the most active group in India.__\n",
    "- __LeT has caused greater no. of casualties in less no. of attacks.__\n",
    "- __Here Unknown refers mostly to the terrorists which cross border from Pakistan to Jammu and Kashmir to enter India but no terrorist group in Pakistan takes responsibility for such attacks to avoid any suspicion over their collaborations with Pakistan. Next graph will clear this more.__"
   ]
  },
  {
   "cell_type": "markdown",
   "metadata": {
    "_uuid": "9c12907e7aea9445d8e9d57bcf24a198a94d4dfd"
   },
   "source": [
    "## Attacks in Jammu and Kashmir."
   ]
  },
  {
   "cell_type": "code",
   "execution_count": null,
   "metadata": {
    "_uuid": "bf3bf9d50d034fbfb39006fa85aa9a43ac9d7206",
    "scrolled": false
   },
   "outputs": [],
   "source": [
    "India[India[\"State\"]=='Jammu and Kashmir']['Terrorist Group'].value_counts()[0:10].to_frame().plot.bar(figsize=(16,6))\n",
    "plt.ylabel('Attacks')"
   ]
  },
  {
   "cell_type": "markdown",
   "metadata": {
    "_uuid": "fac2e04918493501331cad37c8b578d36cbd17d3"
   },
   "source": [
    "## Most affected states"
   ]
  },
  {
   "cell_type": "code",
   "execution_count": null,
   "metadata": {
    "_uuid": "1fce4e1940cefd1f01ea99adaac19f4f1660572f"
   },
   "outputs": [],
   "source": [
    "India[India['State'].isin(India['State'].value_counts()[0:10].index)]['State'].value_counts().to_frame().plot.bar(figsize=(16,6),width=0.3)\n",
    "plt.ylabel('Attacks')"
   ]
  },
  {
   "cell_type": "markdown",
   "metadata": {
    "_uuid": "e8c1e4eaf8b4762d64be65d5beb4e580937db523"
   },
   "source": [
    "- __Jammu and Kashmir is the most affected state followed by Manipur, Assam, Chattisgarh and Punjab.__"
   ]
  },
  {
   "cell_type": "code",
   "execution_count": null,
   "metadata": {
    "_uuid": "7fc5411803cf93f39f562121172fc5184bb72294"
   },
   "outputs": [],
   "source": [
    "data = [go.Scattermapbox(\n",
    "            lat= India['latitude'] ,\n",
    "            lon= India['longitude'],\n",
    "            customdata = India['Event ID'],\n",
    "            mode='markers',\n",
    "            marker=dict(\n",
    "                size= 3.5,\n",
    "                color = 'red',\n",
    "                opacity = .7,\n",
    "            ),\n",
    "          )]\n",
    "layout = go.Layout(autosize=False,\n",
    "                   mapbox= dict(accesstoken=\"pk.eyJ1Ijoic2hhejEzIiwiYSI6ImNqYXA3NjhmeDR4d3Iyd2w5M2phM3E2djQifQ.yyxsAzT94VGYYEEOhxy87w\",\n",
    "                                bearing=0,\n",
    "                                pitch=50,\n",
    "                                zoom=4.5,\n",
    "                                center= dict(\n",
    "                                         lat=19.5,\n",
    "                                         lon=80.5),\n",
    "                                style= \"mapbox://styles/shaz13/cjk4wlc1s02bm2smsqd7qtjhs\"),\n",
    "                    width=900,\n",
    "                    height=600, title = \"Terrorist attack locations in india\")"
   ]
  },
  {
   "cell_type": "markdown",
   "metadata": {
    "_uuid": "688ad9f950cdfcc50c45e36650b7c724ba3906ad"
   },
   "source": [
    " "
   ]
  },
  {
   "cell_type": "markdown",
   "metadata": {
    "_uuid": "4d44cb6abb566e711becec61e462a58089074f32"
   },
   "source": [
    "## Attack locations in India"
   ]
  },
  {
   "cell_type": "code",
   "execution_count": null,
   "metadata": {
    "_uuid": "eda4670448787c4103627f2e4602c48aa9fd6a5f"
   },
   "outputs": [],
   "source": [
    "fig = dict(data=data, layout=layout)\n",
    "iplot(fig)"
   ]
  },
  {
   "cell_type": "markdown",
   "metadata": {
    "_uuid": "1119e32ee56977faf9ff7439f6776b9a5a7ac9b3"
   },
   "source": [
    "## Timeline of terrorist groups."
   ]
  },
  {
   "cell_type": "code",
   "execution_count": null,
   "metadata": {
    "_uuid": "dc49dfca0b54c6bd9524b1a1bf4e70271e443ebb",
    "scrolled": false
   },
   "outputs": [],
   "source": [
    "pd.crosstab(India[India['Terrorist Group'].isin(India['Terrorist Group'].value_counts()[1:6].index)]['Year'],India[India['Terrorist Group'].isin(India['Terrorist Group'].value_counts()[1:6].index)]['Terrorist Group']).plot(color=sns.color_palette('Paired',10),figsize=(18,6))"
   ]
  },
  {
   "cell_type": "markdown",
   "metadata": {
    "_uuid": "5cf0399bb710bad18e55d67e41d2f912ae3e3998"
   },
   "source": [
    " - __Sikh Extremists were active from 1882 to 1993.__\n",
    " - __Activities of CPI increased rapidly after 2007 and in 2010 CPI was on it's peak.__\n",
    " - __After 2015 Maoists is the most active terrorist group.__"
   ]
  },
  {
   "cell_type": "markdown",
   "metadata": {
    "_uuid": "68a5713e68ebb3f88b0a2350de9c57812a7501d9"
   },
   "source": [
    "## Attack type"
   ]
  },
  {
   "cell_type": "code",
   "execution_count": null,
   "metadata": {
    "_uuid": "dc24c07c084a4b7d352429cebc7bd39c5445d155",
    "scrolled": true
   },
   "outputs": [],
   "source": [
    "v1=India[India['Terrorist Group'].isin(India['Terrorist Group'].value_counts()[1:11].index)]\n",
    "pd.crosstab(v1['Terrorist Group'],v1['Attack type']).plot.barh(stacked=True,figsize=(9,5),width=0.7)\n",
    "plt.legend(loc=9,bbox_to_anchor=(1.05,1.05))"
   ]
  },
  {
   "cell_type": "markdown",
   "metadata": {
    "_uuid": "585b0a4a152dfcb325e172fea430cfba5a52726d"
   },
   "source": [
    "- __Sikh Extremists did assassinations far more than any other group.__"
   ]
  },
  {
   "cell_type": "markdown",
   "metadata": {
    "_uuid": "4cf0f896aea1d2af9db21f366badb9963932d1d8"
   },
   "source": [
    "## Weapons used by different groups"
   ]
  },
  {
   "cell_type": "code",
   "execution_count": null,
   "metadata": {
    "_uuid": "2826dc3d75d3fda8ee2dd93d884f4464d7d35488"
   },
   "outputs": [],
   "source": [
    "pd.crosstab(v1['Terrorist Group'],v1['Weapon type']).plot.barh(stacked=True,figsize=(9,5),width=0.7)\n",
    "plt.legend(loc=9,bbox_to_anchor=(1.3,1))"
   ]
  },
  {
   "cell_type": "markdown",
   "metadata": {
    "_uuid": "55fa16285829756fbebb2da85fa777999d21d708"
   },
   "source": [
    "## Favorite targets of different terrorist groups"
   ]
  },
  {
   "cell_type": "code",
   "execution_count": null,
   "metadata": {
    "_uuid": "5c32786577094f733d25ac52da40e683fd3bbc13"
   },
   "outputs": [],
   "source": [
    "v1=v1[v1['Target'].isin(v1['Target'].value_counts()[0:10].index)]\n",
    "pd.crosstab(v1['Terrorist Group'],v1['Target']).plot.barh(stacked=True,figsize=(9,5),width=0.7)\n",
    "plt.legend(loc=9,bbox_to_anchor=(1.25,1))"
   ]
  },
  {
   "cell_type": "markdown",
   "metadata": {
    "_uuid": "96b3a7b1701ee5137941efd66a7167ec7e0e68ec"
   },
   "source": [
    "***"
   ]
  },
  {
   "cell_type": "markdown",
   "metadata": {
    "_uuid": "794a2aa5a56838c8d29ed1a037a36b8723ab6fbb"
   },
   "source": [
    "# Iraq\n",
    "![](https://upload.wikimedia.org/wikipedia/commons/thumb/f/f6/Flag_of_Iraq.svg/320px-Flag_of_Iraq.svg.png)"
   ]
  },
  {
   "cell_type": "code",
   "execution_count": null,
   "metadata": {
    "_uuid": "dddc7bd4777b98a4e2034fc7dad082432859f4ea"
   },
   "outputs": [],
   "source": [
    "Iraq=dataset[dataset['Country']=='Iraq']"
   ]
  },
  {
   "cell_type": "markdown",
   "metadata": {
    "_uuid": "64768ffd97f8e428d801830f93a9d03a979918cf"
   },
   "source": [
    "## History of terrorist attacks in Iraq"
   ]
  },
  {
   "cell_type": "code",
   "execution_count": null,
   "metadata": {
    "_uuid": "3a4f33aa0a1518632a5704b597b84792d125cddb"
   },
   "outputs": [],
   "source": [
    "sns.set_context(context='notebook',font_scale=1.5)\n",
    "plt.figure(figsize=(16,9))\n",
    "v1=Iraq['Year'].value_counts().to_frame().reset_index().rename(columns={'index':'Year','Year':'Attacks'}).sort_values(by='Year')\n",
    "sns.barplot(data=v1,x='Year',y='Attacks',ci=None)\n",
    "plt.xticks(rotation=90)"
   ]
  },
  {
   "cell_type": "markdown",
   "metadata": {
    "_uuid": "af4164397f1ba5f804a408e0d8244bb5e28be026"
   },
   "source": [
    "- __There were almost no terrorism activities in Iraq before 2003.__\n",
    "- __We can see almost 2 fold rise in attacks after 2012.__"
   ]
  },
  {
   "cell_type": "markdown",
   "metadata": {
    "_uuid": "b6e2959d423d41f9b13350b555dc5b50b2cdf8cc"
   },
   "source": [
    "# Most active terrorist groups in Iraq"
   ]
  },
  {
   "cell_type": "code",
   "execution_count": null,
   "metadata": {
    "_uuid": "263dd07b209e7f0463063396af3432407d2b370b"
   },
   "outputs": [],
   "source": [
    "Iraq[Iraq['Terrorist Group'].isin(Iraq['Terrorist Group'].value_counts()[1:5].index)][['Casualties','Terrorist Group']].groupby('Terrorist Group').sum().reset_index().merge(Iraq[Iraq['Terrorist Group'].isin(Iraq['Terrorist Group'].value_counts()[1:5].index)]['Terrorist Group'].value_counts().to_frame().reset_index().rename(columns={'index':'Terrorist Group','Terrorist Group':'Attacks'}), on='Terrorist Group').sort_values(by='Attacks',ascending=False).plot.barh(x='Terrorist Group',y=['Attacks','Casualties'],figsize=(12,5),stacked=True,width=0.5)"
   ]
  },
  {
   "cell_type": "markdown",
   "metadata": {
    "_uuid": "65cedf3a66c2876e0919952074e656f2801568d8"
   },
   "source": [
    "- __ISIL and Al-Quida are most active groups in Iraq.__"
   ]
  },
  {
   "cell_type": "markdown",
   "metadata": {
    "_uuid": "0d1dd6b265e29c77109b1b00a6428792ea75e37d"
   },
   "source": [
    "## Most affected states"
   ]
  },
  {
   "cell_type": "code",
   "execution_count": null,
   "metadata": {
    "_uuid": "ad6b30fb0da782b9f4474eff32cea706dbb93333"
   },
   "outputs": [],
   "source": [
    "Iraq[Iraq['State'].isin(Iraq['State'].value_counts()[0:10].index)]['State'].value_counts().to_frame().plot.bar(figsize=(16,6),width=0.3)\n",
    "plt.ylabel('Attacks')"
   ]
  },
  {
   "cell_type": "markdown",
   "metadata": {
    "_uuid": "732c9701528f39175fc1e3ebde47b49ad7ad4d9e"
   },
   "source": [
    "- __Baghdad is most affected followed by Saladin, Al Anbar, Nineveh and Diyala.__\n",
    "- __Baghdad witnessed more than twice no. of attacks than the rest states in top 5.__"
   ]
  },
  {
   "cell_type": "code",
   "execution_count": null,
   "metadata": {
    "_uuid": "2d6773cd2a7923fbc977a8283c8b7179c9042713"
   },
   "outputs": [],
   "source": [
    "data = [go.Scattermapbox(\n",
    "            lat= Iraq['latitude'] ,\n",
    "            lon= Iraq['longitude'],\n",
    "            customdata = Iraq['Event ID'],\n",
    "            mode='markers',\n",
    "            marker=dict(\n",
    "                size= 3.5,\n",
    "                color = 'red',\n",
    "                opacity = .7,\n",
    "            ),\n",
    "          )]\n",
    "layout = go.Layout(autosize=False,\n",
    "                   mapbox= dict(accesstoken=\"pk.eyJ1Ijoic2hhejEzIiwiYSI6ImNqYXA3NjhmeDR4d3Iyd2w5M2phM3E2djQifQ.yyxsAzT94VGYYEEOhxy87w\",\n",
    "                                bearing=0,\n",
    "                                pitch=50,\n",
    "                                zoom=6.5,\n",
    "                                center= dict(\n",
    "                                         lat=34,\n",
    "                                         lon=44),\n",
    "                                style= \"mapbox://styles/shaz13/cjk4wlc1s02bm2smsqd7qtjhs\"),\n",
    "                    width=900,\n",
    "                    height=600, title = \"Terrorist attack locations in Iraq\")"
   ]
  },
  {
   "cell_type": "markdown",
   "metadata": {
    "_uuid": "800c5cffb0e144ac25ba24dca06f2fe54a71768e"
   },
   "source": [
    "## Attack locations in Iraq"
   ]
  },
  {
   "cell_type": "code",
   "execution_count": null,
   "metadata": {
    "_uuid": "7af6625024bbb15ef696c5dacc30f3b1904207c8",
    "scrolled": false
   },
   "outputs": [],
   "source": [
    "fig = dict(data=data, layout=layout)\n",
    "iplot(fig)"
   ]
  },
  {
   "cell_type": "markdown",
   "metadata": {
    "_uuid": "91a891810eb6dde023c64a930890cc15d99169fc"
   },
   "source": [
    "## Attack type"
   ]
  },
  {
   "cell_type": "code",
   "execution_count": null,
   "metadata": {
    "_uuid": "d8d01c8fe2866cacd2213a8a68ca014b1489e24a"
   },
   "outputs": [],
   "source": [
    "v1=Iraq[Iraq['Terrorist Group'].isin(Iraq['Terrorist Group'].value_counts()[1:5].index)]\n",
    "pd.crosstab(v1['Terrorist Group'],v1['Attack type']).plot.barh(stacked=True,figsize=(9,5),width=0.5)\n",
    "plt.legend(loc=9,bbox_to_anchor=(1.32,1))"
   ]
  },
  {
   "cell_type": "markdown",
   "metadata": {
    "_uuid": "5bee3e064d8a586062b6a7c61f01760ff357bbb1"
   },
   "source": [
    "## Weapons used by different groups"
   ]
  },
  {
   "cell_type": "code",
   "execution_count": null,
   "metadata": {
    "_uuid": "e83b26e0685676378179f9741847d50dbc9c399f"
   },
   "outputs": [],
   "source": [
    "pd.crosstab(v1['Terrorist Group'],v1['Weapon type']).plot.barh(stacked=True,figsize=(9,5),width=0.5)\n",
    "plt.legend(loc=9,bbox_to_anchor=(0.8,0.75))"
   ]
  },
  {
   "cell_type": "markdown",
   "metadata": {
    "_uuid": "0cafdbec420f10c7744a72c8763bd64a79077fc2"
   },
   "source": [
    "- __ISIL used explosives  mainly to spread its terror.__"
   ]
  },
  {
   "cell_type": "markdown",
   "metadata": {
    "_uuid": "2317b0acbaa1e110274768217bff53016509b432"
   },
   "source": [
    "## Favorite targets of different terrorist groups"
   ]
  },
  {
   "cell_type": "code",
   "execution_count": null,
   "metadata": {
    "_uuid": "2f57de841343ae4f2f7ad9ecb356c8a0af3a9e95"
   },
   "outputs": [],
   "source": [
    "v1=v1[v1['Target'].isin(v1['Target'].value_counts()[0:10].index)]\n",
    "pd.crosstab(v1['Terrorist Group'],v1['Target']).plot.barh(stacked=True,figsize=(9,5),width=0.7)\n",
    "plt.legend(loc=9,bbox_to_anchor=(1.27,1))"
   ]
  },
  {
   "cell_type": "markdown",
   "metadata": {
    "_uuid": "4c94a700d4aa5c048130cc4df86912b8cce41901"
   },
   "source": [
    "***"
   ]
  },
  {
   "cell_type": "markdown",
   "metadata": {
    "_uuid": "2feb443b6b8540d08bd565894ada978136be3b75"
   },
   "source": [
    "# Pakistan\n",
    "<br>\n",
    "![Pakistan](https://upload.wikimedia.org/wikipedia/commons/thumb/3/32/Flag_of_Pakistan.svg/320px-Flag_of_Pakistan.svg.png)\n",
    "<br>"
   ]
  },
  {
   "cell_type": "code",
   "execution_count": null,
   "metadata": {
    "_uuid": "1cd4b04aadf372edfb982a660a95418cb577d4cb"
   },
   "outputs": [],
   "source": [
    "Pakistan=dataset[dataset['Country']=='Pakistan']"
   ]
  },
  {
   "cell_type": "markdown",
   "metadata": {
    "_uuid": "5419b522367ed35a66c822b8302a35e6a19555ab"
   },
   "source": [
    "## History of terrorist attacks in Pakistan"
   ]
  },
  {
   "cell_type": "code",
   "execution_count": null,
   "metadata": {
    "_uuid": "dc7050d1baf61a5f7335fddd23a1d4c77b1db93c"
   },
   "outputs": [],
   "source": [
    "sns.set_context(context='notebook',font_scale=1.5)\n",
    "plt.figure(figsize=(16,9))\n",
    "v1=Pakistan['Year'].value_counts().to_frame().reset_index().rename(columns={'index':'Year','Year':'Attacks'}).sort_values(by='Year')\n",
    "sns.barplot(data=v1,x='Year',y='Attacks',ci=None)\n",
    "plt.xticks(rotation=90)"
   ]
  },
  {
   "cell_type": "markdown",
   "metadata": {
    "_uuid": "e3e1870bb3c2822eb9ce716b80b0c16ba251fec3"
   },
   "source": [
    "- __We can see series of terrorist activities in years 1990-97 with a great peak in 1995.__\n",
    "- __No. of activities increase exponentially from 2005-2013, however the activities decreased at the same rate after 2013.__**"
   ]
  },
  {
   "cell_type": "markdown",
   "metadata": {
    "_uuid": "7d20f7f858ae179c0e93c537a83f87bd7a936baa"
   },
   "source": [
    "# Most active terrorist groups in Pakistan"
   ]
  },
  {
   "cell_type": "code",
   "execution_count": null,
   "metadata": {
    "_uuid": "702ff63cfbfd0ca42cb93e623350017e37c2cc70"
   },
   "outputs": [],
   "source": [
    "Pakistan[Pakistan['Terrorist Group'].isin(Pakistan['Terrorist Group'].value_counts()[1:11].index)][['Casualties','Terrorist Group']].groupby('Terrorist Group').sum().reset_index().merge(Pakistan[Pakistan['Terrorist Group'].isin(Pakistan['Terrorist Group'].value_counts()[1:11].index)]['Terrorist Group'].value_counts().to_frame().reset_index().rename(columns={'index':'Terrorist Group','Terrorist Group':'Attacks'}), on='Terrorist Group').sort_values(by='Attacks',ascending=False).plot.barh(x='Terrorist Group',y=['Attacks','Casualties'],figsize=(12,6),stacked=True)"
   ]
  },
  {
   "cell_type": "markdown",
   "metadata": {
    "_uuid": "1fd57b428041b470f5be7bce96ba293ce6fbfbfa"
   },
   "source": [
    "- __Taliban has caused great loss to Pakistan.__"
   ]
  },
  {
   "cell_type": "markdown",
   "metadata": {
    "_uuid": "b0b8f87369368825e62cb1ede0d4cde2901146b7"
   },
   "source": [
    "## Most affected states"
   ]
  },
  {
   "cell_type": "code",
   "execution_count": null,
   "metadata": {
    "_uuid": "2178708e3ad45aef0fdefdb39f2ace8281200c76"
   },
   "outputs": [],
   "source": [
    "Pakistan[Pakistan['State'].isin(Pakistan['State'].value_counts()[0:10].index)]['State'].value_counts().to_frame().plot.bar(figsize=(16,6),width=0.4)"
   ]
  },
  {
   "cell_type": "markdown",
   "metadata": {
    "_uuid": "ebb8b4ff6227768350d0234a82a9cc06ee27cf34"
   },
   "source": [
    "- __Balochistan, Sindh, Khyber Pakhtunkhwa and FATA are some most affected regions in Pakistan.__"
   ]
  },
  {
   "cell_type": "code",
   "execution_count": null,
   "metadata": {
    "_uuid": "221b531afbf5a948a8df1158c263702f18e380f9"
   },
   "outputs": [],
   "source": [
    "data = [go.Scattermapbox(\n",
    "            lat= Pakistan['latitude'] ,\n",
    "            lon= Pakistan['longitude'],\n",
    "            customdata = Pakistan['Event ID'],\n",
    "            mode='markers',\n",
    "            marker=dict(\n",
    "                size= 3.5,\n",
    "                color = 'red',\n",
    "                opacity = .7,\n",
    "            ),\n",
    "          )]\n",
    "layout = go.Layout(autosize=False,\n",
    "                   mapbox= dict(accesstoken=\"pk.eyJ1Ijoic2hhejEzIiwiYSI6ImNqYXA3NjhmeDR4d3Iyd2w5M2phM3E2djQifQ.yyxsAzT94VGYYEEOhxy87w\",\n",
    "                                bearing=0,\n",
    "                                pitch=50,\n",
    "                                zoom=5,\n",
    "                                center= dict(\n",
    "                                         lat=29,\n",
    "                                         lon=68),\n",
    "                                style= \"mapbox://styles/shaz13/cjk4wlc1s02bm2smsqd7qtjhs\"),\n",
    "                    width=900,\n",
    "                    height=600, title = \"Terrorist attack locations in Pakistan\")"
   ]
  },
  {
   "cell_type": "markdown",
   "metadata": {
    "_uuid": "18788aa33eccb7ad1ddd51159fa412f9f138f815"
   },
   "source": [
    "## Attack locations in Pakistan"
   ]
  },
  {
   "cell_type": "code",
   "execution_count": null,
   "metadata": {
    "_uuid": "49d5888a600ddf97bd98bff5fd69d26567a76d4e"
   },
   "outputs": [],
   "source": [
    "fig = dict(data=data, layout=layout)\n",
    "iplot(fig)"
   ]
  },
  {
   "cell_type": "markdown",
   "metadata": {
    "_uuid": "6cfa17b16b2674d7f2899a80a0adbbd86ecba7e2"
   },
   "source": [
    "## Attack type"
   ]
  },
  {
   "cell_type": "code",
   "execution_count": null,
   "metadata": {
    "_uuid": "7a71636314f8e00b01dc4ce47850c01e452a8653"
   },
   "outputs": [],
   "source": [
    "v1=Pakistan[Pakistan['Terrorist Group'].isin(Pakistan['Terrorist Group'].value_counts()[1:11].index)]\n",
    "pd.crosstab(v1['Terrorist Group'],v1['Attack type']).plot.barh(stacked=True,figsize=(9,5),width=0.7)\n",
    "plt.legend(loc=9,bbox_to_anchor=(1.33,1))"
   ]
  },
  {
   "cell_type": "markdown",
   "metadata": {
    "_uuid": "1b599b50225a6cdf54f60d261c011c77d2422013"
   },
   "source": [
    "## Weapons used by different groups"
   ]
  },
  {
   "cell_type": "code",
   "execution_count": null,
   "metadata": {
    "_uuid": "69064fd0e916f0711ca07a306b1c101236578e65"
   },
   "outputs": [],
   "source": [
    "pd.crosstab(v1['Terrorist Group'],v1['Weapon type']).plot.barh(stacked=True,figsize=(9,5),width=0.7)\n",
    "plt.legend(loc=9,bbox_to_anchor=(0.83,0.7))"
   ]
  },
  {
   "cell_type": "markdown",
   "metadata": {
    "_uuid": "637172c39ab135d5166d8b92bf78383333fe180d"
   },
   "source": [
    "## Favorite targets of different terrorist groups"
   ]
  },
  {
   "cell_type": "code",
   "execution_count": null,
   "metadata": {
    "_uuid": "f5ca618d3d251645c761bb65477697a36a852aee"
   },
   "outputs": [],
   "source": [
    "v1=v1[v1['Target'].isin(v1['Target'].value_counts()[0:10].index)]\n",
    "pd.crosstab(v1['Terrorist Group'],v1['Target']).plot.barh(stacked=True,figsize=(9,5),width=0.7)\n",
    "plt.legend(loc=9,bbox_to_anchor=(1.28,1))"
   ]
  },
  {
   "cell_type": "markdown",
   "metadata": {
    "_uuid": "2bc1f629890447cc380a886bf98ff2ec1ee022b1"
   },
   "source": [
    "***"
   ]
  },
  {
   "cell_type": "markdown",
   "metadata": {
    "_uuid": "40f96cf4f36efb665b36fe15eef9d92060cb511a"
   },
   "source": [
    "# Afghanistan\n",
    "<br>\n",
    "![](https://upload.wikimedia.org/wikipedia/commons/thumb/9/9a/Flag_of_Afghanistan.svg/450px-Flag_of_Afghanistan.svg.png)\n",
    "<br>"
   ]
  },
  {
   "cell_type": "code",
   "execution_count": null,
   "metadata": {
    "_uuid": "60f5c4ae6c8931f93cf2694f4c2b56521d422765"
   },
   "outputs": [],
   "source": [
    "Afghanistan=dataset[dataset['Country']=='Afghanistan']"
   ]
  },
  {
   "cell_type": "markdown",
   "metadata": {
    "_uuid": "b68b88d5acec7bd823c6fbe9e66b087de03deb37"
   },
   "source": [
    "## History of terrorist attacks in Afghanistan"
   ]
  },
  {
   "cell_type": "code",
   "execution_count": null,
   "metadata": {
    "_uuid": "6518a0601daa80b35fdb3b84a36a1f924311b13a"
   },
   "outputs": [],
   "source": [
    "sns.set_context(context='notebook',font_scale=1.5)\n",
    "plt.figure(figsize=(16,9))\n",
    "v1=Afghanistan['Year'].value_counts().to_frame().reset_index().rename(columns={'index':'Year','Year':'Attacks'}).sort_values(by='Year')\n",
    "sns.barplot(data=v1,x='Year',y='Attacks',ci=None)\n",
    "plt.xticks(rotation=90)"
   ]
  },
  {
   "cell_type": "markdown",
   "metadata": {
    "_uuid": "5631cb7193d60b1ba529f30ae5b8980c838a634b"
   },
   "source": [
    "- __Very less no. of  terrorist activities can be seen in Afghanistan before 2002 but there is significant growth in activities after 2002.__\n",
    "- __Activities increased more than 3 folds after 2011.__"
   ]
  },
  {
   "cell_type": "markdown",
   "metadata": {
    "_uuid": "3159772df5ca2d72b6f7cdc1ed6419c3babd1ffd"
   },
   "source": [
    "## Most active terrorist groups in Afghanistan"
   ]
  },
  {
   "cell_type": "code",
   "execution_count": null,
   "metadata": {
    "_uuid": "379c26d8bf2a1a69ab4f85a410075f01a9388aef"
   },
   "outputs": [],
   "source": [
    "Afghanistan[Afghanistan['Terrorist Group'].isin(Afghanistan['Terrorist Group'].value_counts()[0:5].index)][['Casualties','Terrorist Group']].groupby('Terrorist Group').sum().reset_index().merge(Afghanistan[Afghanistan['Terrorist Group'].isin(Afghanistan['Terrorist Group'].value_counts()[0:5].index)]['Terrorist Group'].value_counts().to_frame().reset_index().rename(columns={'index':'Terrorist Group','Terrorist Group':'Attacks'}), on='Terrorist Group').sort_values(by='Attacks',ascending=False).plot.barh(x='Terrorist Group',y=['Attacks','Casualties'],figsize=(12,4),stacked=True,width=0.3)"
   ]
  },
  {
   "cell_type": "markdown",
   "metadata": {
    "_uuid": "4aeca34fa175a0dbe82a46d3eb9f2bcc27f57d2d"
   },
   "source": [
    "## Most affected states"
   ]
  },
  {
   "cell_type": "code",
   "execution_count": null,
   "metadata": {
    "_uuid": "992c9b433b437140ff6b4c5e1e46388674ae5a65"
   },
   "outputs": [],
   "source": [
    "Afghanistan[Afghanistan['State'].isin(Afghanistan['State'].value_counts()[0:10].index)]['State'].value_counts().to_frame().plot.bar(figsize=(16,6),width=0.4)\n",
    "plt.ylabel('Attacks')"
   ]
  },
  {
   "cell_type": "markdown",
   "metadata": {
    "_uuid": "7828070f1ba98247f1a85d3cf00e6fa62411ba5f"
   },
   "source": [
    "- __All regions of Afghanistan are affected greatly, but Helmand, Kandhar, Nangarhar and Ghazni are the most affected.__"
   ]
  },
  {
   "cell_type": "code",
   "execution_count": null,
   "metadata": {
    "_uuid": "39300c0b87bbb8e1644e4496dd2ad40a233f36e2"
   },
   "outputs": [],
   "source": [
    "data = [go.Scattermapbox(\n",
    "            lat= Afghanistan['latitude'] ,\n",
    "            lon= Afghanistan['longitude'],\n",
    "            customdata = Afghanistan['Event ID'],\n",
    "            mode='markers',\n",
    "            marker=dict(\n",
    "                size= 3.5,\n",
    "                color = 'red',\n",
    "                opacity = .7,\n",
    "            ),\n",
    "          )]\n",
    "layout = go.Layout(autosize=False,\n",
    "                   mapbox= dict(accesstoken=\"pk.eyJ1Ijoic2hhejEzIiwiYSI6ImNqYXA3NjhmeDR4d3Iyd2w5M2phM3E2djQifQ.yyxsAzT94VGYYEEOhxy87w\",\n",
    "                                bearing=0,\n",
    "                                pitch=50,\n",
    "                                zoom=5.5,\n",
    "                                center= dict(\n",
    "                                         lat=33,\n",
    "                                         lon=65),\n",
    "                                style= \"mapbox://styles/shaz13/cjk4wlc1s02bm2smsqd7qtjhs\"),\n",
    "                    width=900,\n",
    "                    height=600, title = \"Terrorist attack locations in Afghanistan\")"
   ]
  },
  {
   "cell_type": "markdown",
   "metadata": {
    "_uuid": "2b5fef6457ebafd6d15e1edecd0be1c220fab7a1"
   },
   "source": [
    "## Attack locations in Afghanistan"
   ]
  },
  {
   "cell_type": "code",
   "execution_count": null,
   "metadata": {
    "_uuid": "a0e2a7e5e9acf5b1c88ea19171c6c00987d8f39a"
   },
   "outputs": [],
   "source": [
    "fig = dict(data=data, layout=layout)\n",
    "iplot(fig)"
   ]
  },
  {
   "cell_type": "markdown",
   "metadata": {
    "_uuid": "4b1b01db38be375d69fdb81f16a1cb9bad4dad8a"
   },
   "source": [
    "## Attack type"
   ]
  },
  {
   "cell_type": "code",
   "execution_count": null,
   "metadata": {
    "_uuid": "6a0dd6a297d8cdab4b9d2e744e0275aceb11cdf7"
   },
   "outputs": [],
   "source": [
    "v1=Afghanistan[Afghanistan['Terrorist Group'].isin(Afghanistan['Terrorist Group'].value_counts()[0:5].index)]\n",
    "pd.crosstab(v1['Terrorist Group'],v1['Attack type']).plot.barh(stacked=True,figsize=(9,5),width=0.5)\n",
    "plt.legend(loc=9,bbox_to_anchor=(1.33,1))"
   ]
  },
  {
   "cell_type": "markdown",
   "metadata": {
    "_uuid": "be6a567464820aca4e1098f1bf5aaaf8cb394366"
   },
   "source": [
    "## Weapons used by different groups"
   ]
  },
  {
   "cell_type": "code",
   "execution_count": null,
   "metadata": {
    "_uuid": "d068cc567ad4d10eb6c6039836fa03540bfbc37d"
   },
   "outputs": [],
   "source": [
    "pd.crosstab(v1['Terrorist Group'],v1['Weapon type']).plot.barh(stacked=True,figsize=(9,6),width=0.5)\n",
    "plt.legend(loc=9,bbox_to_anchor=(0.8,0.6))"
   ]
  },
  {
   "cell_type": "markdown",
   "metadata": {
    "_uuid": "771f27a1570b27831b089657c4042d183e4d6c89"
   },
   "source": [
    "## Favorite targets of different terrorist groups"
   ]
  },
  {
   "cell_type": "code",
   "execution_count": null,
   "metadata": {
    "_uuid": "14b2a6a66cfd59319ce3c4b69f5da4f53407ebe0"
   },
   "outputs": [],
   "source": [
    "v1=v1[v1['Target'].isin(v1['Target'].value_counts()[0:10].index)]\n",
    "pd.crosstab(v1['Terrorist Group'],v1['Target']).plot.barh(stacked=True,figsize=(9,5),width=0.7)\n",
    "plt.legend(loc=9,bbox_to_anchor=(1.28,1))"
   ]
  },
  {
   "cell_type": "markdown",
   "metadata": {
    "_uuid": "7be86c4441b5652974e6a78b71f2026cff3fd5c0"
   },
   "source": [
    "# At last a pinch of NLP"
   ]
  },
  {
   "cell_type": "code",
   "execution_count": null,
   "metadata": {
    "_uuid": "89cb0ea1ce2f9bb5c1cacb69818b53e5c4ba2eeb"
   },
   "outputs": [],
   "source": [
    "import re\n",
    "import nltk\n",
    "from nltk.corpus import stopwords"
   ]
  },
  {
   "cell_type": "code",
   "execution_count": null,
   "metadata": {
    "_uuid": "69713d11cb73ed385e8f95ed6d685acc44cca09b"
   },
   "outputs": [],
   "source": [
    "motive_words=''\n",
    "for i in range(50560):\n",
    "    reason=re.sub('[^a-zA-z]',' ',motive.iloc[i])\n",
    "    reason=reason.lower()\n",
    "    reason=reason.split()\n",
    "    remove=['specific','motive','unknown', 'nknown','un','known','attack','source',\n",
    "            'sources','responsibility','claimed','incident','carried','stated','larger', 'trend','part']\n",
    "    reason=[word for word in reason if word not in remove]\n",
    "    reason=[word for word in reason if word not in set(stopwords.words('english'))]\n",
    "    for word in reason:\n",
    "        motive_words = motive_words+word+' '"
   ]
  },
  {
   "cell_type": "code",
   "execution_count": null,
   "metadata": {
    "_uuid": "53b375ad51c328cee28b9a26798d7e2a313ac954"
   },
   "outputs": [],
   "source": [
    "from wordcloud import WordCloud"
   ]
  },
  {
   "cell_type": "code",
   "execution_count": null,
   "metadata": {
    "_uuid": "a3edb3e13d1115e21d0b26b17cf961ace6a56f4c"
   },
   "outputs": [],
   "source": [
    "motive_wordcloud=WordCloud(width=1200,height=720,random_state=101).generate(motive_words)"
   ]
  },
  {
   "cell_type": "code",
   "execution_count": null,
   "metadata": {
    "_uuid": "8bab9f66a626779dc84b11f09d4449172e23bf61"
   },
   "outputs": [],
   "source": [
    "plt.figure(facecolor='k',figsize=(16,9))\n",
    "plt.imshow(motive_wordcloud)\n",
    "plt.axis('off')\n",
    "plt.title('Motives word cloud')\n",
    "plt.tight_layout(pad=0)\n",
    "plt.show()"
   ]
  },
  {
   "cell_type": "markdown",
   "metadata": {
    "_uuid": "f9fa1028852135e8db89bb0578ffc6d4d7fdda4d"
   },
   "source": [
    " - __Motives include political interests, fuelled by religious feelings and lot of voilence to spread fear.__"
   ]
  },
  {
   "cell_type": "code",
   "execution_count": null,
   "metadata": {
    "_uuid": "500683a62452c383f3ba51ec8a78f8edde68443f"
   },
   "outputs": [],
   "source": []
  },
  {
   "cell_type": "code",
   "execution_count": null,
   "metadata": {},
   "outputs": [],
   "source": []
  },
  {
   "cell_type": "code",
   "execution_count": null,
   "metadata": {},
   "outputs": [],
   "source": []
  }
 ],
 "metadata": {
  "kernelspec": {
   "display_name": "Python 3",
   "language": "python",
   "name": "python3"
  },
  "language_info": {
   "codemirror_mode": {
    "name": "ipython",
    "version": 3
   },
   "file_extension": ".py",
   "mimetype": "text/x-python",
   "name": "python",
   "nbconvert_exporter": "python",
   "pygments_lexer": "ipython3",
   "version": "3.7.1"
  }
 },
 "nbformat": 4,
 "nbformat_minor": 2
}
