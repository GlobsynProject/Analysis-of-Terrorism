{
 "cells": [
  {
   "cell_type": "code",
   "execution_count": 16,
   "metadata": {
    "collapsed": true
   },
   "outputs": [
    {
     "data": {
      "text/html": [
       "<div>\n",
       "<style scoped>\n",
       "    .dataframe tbody tr th:only-of-type {\n",
       "        vertical-align: middle;\n",
       "    }\n",
       "\n",
       "    .dataframe tbody tr th {\n",
       "        vertical-align: top;\n",
       "    }\n",
       "\n",
       "    .dataframe thead th {\n",
       "        text-align: right;\n",
       "    }\n",
       "</style>\n",
       "<table border=\"1\" class=\"dataframe\">\n",
       "  <thead>\n",
       "    <tr style=\"text-align: right;\">\n",
       "      <th></th>\n",
       "      <th>iyear</th>\n",
       "      <th>imonth</th>\n",
       "      <th>iday</th>\n",
       "      <th>country_txt</th>\n",
       "      <th>city</th>\n",
       "      <th>attacktype1_txt</th>\n",
       "      <th>targtype1_txt</th>\n",
       "      <th>corp1</th>\n",
       "      <th>target1</th>\n",
       "      <th>natlty1_txt</th>\n",
       "      <th>gname</th>\n",
       "      <th>weaptype1_txt</th>\n",
       "      <th>weapsubtype1_txt</th>\n",
       "      <th>weapdetail</th>\n",
       "      <th>nkill</th>\n",
       "      <th>nwound</th>\n",
       "      <th>propextent_txt</th>\n",
       "      <th>ransomamt</th>\n",
       "    </tr>\n",
       "  </thead>\n",
       "  <tbody>\n",
       "    <tr>\n",
       "      <th>0</th>\n",
       "      <td>2012</td>\n",
       "      <td>1</td>\n",
       "      <td>1</td>\n",
       "      <td>Kenya</td>\n",
       "      <td>Garissa</td>\n",
       "      <td>Armed Assault</td>\n",
       "      <td>Business</td>\n",
       "      <td>Locus Pub</td>\n",
       "      <td>Bar</td>\n",
       "      <td>Kenya</td>\n",
       "      <td>Al-Shabaab</td>\n",
       "      <td>Explosives/Bombs/Dynamite</td>\n",
       "      <td>Grenade</td>\n",
       "      <td>Two grenades and AK-47 assault rifles were use...</td>\n",
       "      <td>3.0</td>\n",
       "      <td>14.0</td>\n",
       "      <td>Minor (likely &lt; $1 million)</td>\n",
       "      <td>NaN</td>\n",
       "    </tr>\n",
       "  </tbody>\n",
       "</table>\n",
       "</div>"
      ],
      "text/plain": [
       "   iyear  imonth  iday country_txt     city attacktype1_txt targtype1_txt  \\\n",
       "0   2012       1     1       Kenya  Garissa   Armed Assault      Business   \n",
       "\n",
       "       corp1 target1 natlty1_txt       gname              weaptype1_txt  \\\n",
       "0  Locus Pub     Bar       Kenya  Al-Shabaab  Explosives/Bombs/Dynamite   \n",
       "\n",
       "  weapsubtype1_txt                                         weapdetail  nkill  \\\n",
       "0          Grenade  Two grenades and AK-47 assault rifles were use...    3.0   \n",
       "\n",
       "   nwound               propextent_txt  ransomamt  \n",
       "0    14.0  Minor (likely < $1 million)        NaN  "
      ]
     },
     "execution_count": 16,
     "metadata": {},
     "output_type": "execute_result"
    }
   ],
   "source": [
    "import pandas as pd\n",
    "try:\n",
    "    p = pd.read_csv(\"E:\\\\terrorist.csv\")\n",
    "except:\n",
    "    print('File access error..')\n",
    "p.head(1)"
   ]
  },
  {
   "cell_type": "code",
   "execution_count": 21,
   "metadata": {
    "collapsed": true
   },
   "outputs": [
    {
     "data": {
      "text/html": [
       "<div>\n",
       "<style scoped>\n",
       "    .dataframe tbody tr th:only-of-type {\n",
       "        vertical-align: middle;\n",
       "    }\n",
       "\n",
       "    .dataframe tbody tr th {\n",
       "        vertical-align: top;\n",
       "    }\n",
       "\n",
       "    .dataframe thead th {\n",
       "        text-align: right;\n",
       "    }\n",
       "</style>\n",
       "<table border=\"1\" class=\"dataframe\">\n",
       "  <thead>\n",
       "    <tr style=\"text-align: right;\">\n",
       "      <th></th>\n",
       "      <th>iyear</th>\n",
       "      <th>imonth</th>\n",
       "      <th>iday</th>\n",
       "      <th>nkill</th>\n",
       "      <th>nwound</th>\n",
       "      <th>ransomamt</th>\n",
       "    </tr>\n",
       "  </thead>\n",
       "  <tbody>\n",
       "    <tr>\n",
       "      <th>count</th>\n",
       "      <td>43915.000000</td>\n",
       "      <td>43915.000000</td>\n",
       "      <td>43915.000000</td>\n",
       "      <td>41290.000000</td>\n",
       "      <td>39313.000000</td>\n",
       "      <td>2.730000e+02</td>\n",
       "    </tr>\n",
       "    <tr>\n",
       "      <th>mean</th>\n",
       "      <td>2014.688079</td>\n",
       "      <td>6.442537</td>\n",
       "      <td>15.664716</td>\n",
       "      <td>3.110463</td>\n",
       "      <td>3.504006</td>\n",
       "      <td>4.066460e+06</td>\n",
       "    </tr>\n",
       "    <tr>\n",
       "      <th>std</th>\n",
       "      <td>1.229350</td>\n",
       "      <td>3.390650</td>\n",
       "      <td>8.778536</td>\n",
       "      <td>13.343306</td>\n",
       "      <td>13.988988</td>\n",
       "      <td>2.180638e+07</td>\n",
       "    </tr>\n",
       "    <tr>\n",
       "      <th>min</th>\n",
       "      <td>2012.000000</td>\n",
       "      <td>1.000000</td>\n",
       "      <td>1.000000</td>\n",
       "      <td>0.000000</td>\n",
       "      <td>0.000000</td>\n",
       "      <td>-9.900000e+01</td>\n",
       "    </tr>\n",
       "    <tr>\n",
       "      <th>25%</th>\n",
       "      <td>2014.000000</td>\n",
       "      <td>4.000000</td>\n",
       "      <td>8.000000</td>\n",
       "      <td>0.000000</td>\n",
       "      <td>0.000000</td>\n",
       "      <td>-9.900000e+01</td>\n",
       "    </tr>\n",
       "    <tr>\n",
       "      <th>50%</th>\n",
       "      <td>2015.000000</td>\n",
       "      <td>6.000000</td>\n",
       "      <td>15.000000</td>\n",
       "      <td>1.000000</td>\n",
       "      <td>0.000000</td>\n",
       "      <td>1.586045e+04</td>\n",
       "    </tr>\n",
       "    <tr>\n",
       "      <th>75%</th>\n",
       "      <td>2016.000000</td>\n",
       "      <td>9.000000</td>\n",
       "      <td>23.000000</td>\n",
       "      <td>2.000000</td>\n",
       "      <td>3.000000</td>\n",
       "      <td>2.189562e+05</td>\n",
       "    </tr>\n",
       "    <tr>\n",
       "      <th>max</th>\n",
       "      <td>2016.000000</td>\n",
       "      <td>12.000000</td>\n",
       "      <td>31.000000</td>\n",
       "      <td>1500.000000</td>\n",
       "      <td>1500.000000</td>\n",
       "      <td>2.000000e+08</td>\n",
       "    </tr>\n",
       "  </tbody>\n",
       "</table>\n",
       "</div>"
      ],
      "text/plain": [
       "              iyear        imonth          iday         nkill        nwound  \\\n",
       "count  43915.000000  43915.000000  43915.000000  41290.000000  39313.000000   \n",
       "mean    2014.688079      6.442537     15.664716      3.110463      3.504006   \n",
       "std        1.229350      3.390650      8.778536     13.343306     13.988988   \n",
       "min     2012.000000      1.000000      1.000000      0.000000      0.000000   \n",
       "25%     2014.000000      4.000000      8.000000      0.000000      0.000000   \n",
       "50%     2015.000000      6.000000     15.000000      1.000000      0.000000   \n",
       "75%     2016.000000      9.000000     23.000000      2.000000      3.000000   \n",
       "max     2016.000000     12.000000     31.000000   1500.000000   1500.000000   \n",
       "\n",
       "          ransomamt  \n",
       "count  2.730000e+02  \n",
       "mean   4.066460e+06  \n",
       "std    2.180638e+07  \n",
       "min   -9.900000e+01  \n",
       "25%   -9.900000e+01  \n",
       "50%    1.586045e+04  \n",
       "75%    2.189562e+05  \n",
       "max    2.000000e+08  "
      ]
     },
     "execution_count": 21,
     "metadata": {},
     "output_type": "execute_result"
    }
   ],
   "source": [
    "p.describe() "
   ]
  },
  {
   "cell_type": "code",
   "execution_count": 22,
   "metadata": {
    "collapsed": true
   },
   "outputs": [
    {
     "name": "stdout",
     "output_type": "stream",
     "text": [
      "<class 'pandas.core.frame.DataFrame'>\n",
      "RangeIndex: 43915 entries, 0 to 43914\n",
      "Data columns (total 18 columns):\n",
      "iyear               43915 non-null int64\n",
      "imonth              43915 non-null int64\n",
      "iday                43915 non-null int64\n",
      "country_txt         43915 non-null object\n",
      "city                43915 non-null object\n",
      "attacktype1_txt     43915 non-null object\n",
      "targtype1_txt       43915 non-null object\n",
      "corp1               43915 non-null object\n",
      "target1             43915 non-null object\n",
      "natlty1_txt         43342 non-null object\n",
      "gname               43915 non-null object\n",
      "weaptype1_txt       43915 non-null object\n",
      "weapsubtype1_txt    39346 non-null object\n",
      "weapdetail          16985 non-null object\n",
      "nkill               41290 non-null float64\n",
      "nwound              39313 non-null float64\n",
      "propextent_txt      15615 non-null object\n",
      "ransomamt           273 non-null float64\n",
      "dtypes: float64(3), int64(3), object(12)\n",
      "memory usage: 6.0+ MB\n"
     ]
    }
   ],
   "source": [
    "p.info()  "
   ]
  },
  {
   "cell_type": "code",
   "execution_count": null,
   "metadata": {},
   "outputs": [],
   "source": [
    "p.columns.values"
   ]
  },
  {
   "cell_type": "code",
   "execution_count": null,
   "metadata": {},
   "outputs": [],
   "source": [
    "p.columns.values\n",
    "p.rename(columns={'imonth': 'Month','iyear': 'Year','iday': 'Date','country_txt': 'Country','corp1': 'Target Institution',\n",
    "'targtype1_txt': 'Target Institution Type','city': 'City','target1': 'Target Population type','attacktype1_txt': 'Attack type',\n",
    "'targtype1_txt': 'Target Institution Type','natlty1_txt': 'Nationality','gname': 'Terrorist Group','nwound': 'Wounded',\n",
    "'weaptype1_txt': 'Weapon type','weapsubtype1_txt': 'Weapon subtype','weapdetail': 'Weapon Details','nkill': 'Killed',\n",
    "'propextent_txt': 'Property damage','ransomamt':'Ransom amount'},inplace=True)"
   ]
  },
  {
   "cell_type": "code",
   "execution_count": null,
   "metadata": {},
   "outputs": [],
   "source": [
    "for grp, data in p.groupby('Year'):\n",
    "    print(grp)\n",
    "    con=data.Country.unique\n",
    "    print('\\n',con)"
   ]
  },
  {
   "cell_type": "code",
   "execution_count": 23,
   "metadata": {
    "collapsed": true
   },
   "outputs": [
    {
     "data": {
      "text/plain": [
       "iyear                   0\n",
       "imonth                  0\n",
       "iday                    0\n",
       "country_txt             0\n",
       "city                    0\n",
       "attacktype1_txt         0\n",
       "targtype1_txt           0\n",
       "corp1                   0\n",
       "target1                 0\n",
       "natlty1_txt           573\n",
       "gname                   0\n",
       "weaptype1_txt           0\n",
       "weapsubtype1_txt     4569\n",
       "weapdetail          26930\n",
       "nkill                2625\n",
       "nwound               4602\n",
       "propextent_txt      28300\n",
       "ransomamt           43642\n",
       "dtype: int64"
      ]
     },
     "execution_count": 23,
     "metadata": {},
     "output_type": "execute_result"
    }
   ],
   "source": [
    "p.isnull().sum()"
   ]
  },
  {
   "cell_type": "code",
   "execution_count": 78,
   "metadata": {},
   "outputs": [],
   "source": [
    "p.fillna('Unknown', inplace=True)"
   ]
  },
  {
   "cell_type": "code",
   "execution_count": null,
   "metadata": {},
   "outputs": [],
   "source": [
    "p[1300:1400]"
   ]
  },
  {
   "cell_type": "code",
   "execution_count": null,
   "metadata": {},
   "outputs": [],
   "source": []
  }
 ],
 "metadata": {
  "kernelspec": {
   "display_name": "Python 3",
   "language": "python",
   "name": "python3"
  },
  "language_info": {
   "codemirror_mode": {
    "name": "ipython",
    "version": 3
   },
   "file_extension": ".py",
   "mimetype": "text/x-python",
   "name": "python",
   "nbconvert_exporter": "python",
   "pygments_lexer": "ipython3",
   "version": "3.6.5"
  }
 },
 "nbformat": 4,
 "nbformat_minor": 2
}
